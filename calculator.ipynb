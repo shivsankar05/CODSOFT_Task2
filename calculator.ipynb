{
 "cells": [
  {
   "cell_type": "markdown",
   "id": "fcd54463",
   "metadata": {},
   "source": [
    "#Task 2 : Calculator"
   ]
  },
  {
   "cell_type": "code",
   "execution_count": 1,
   "id": "9fb61be9",
   "metadata": {},
   "outputs": [
    {
     "name": "stdout",
     "output_type": "stream",
     "text": [
      "Calculator\n",
      "35.0\n"
     ]
    }
   ],
   "source": [
    "print(\"Calculator\")\n",
    "num1 = float(input(\"Enter the first number:\"))\n",
    "num2 = float(input(\"Enter the second number:\"))\n",
    "operation = input(\"Enter the operation(+,-,*,/):\")\n",
    "if operation == \"+\":\n",
    "    print(num1 + num2)\n",
    "elif operation == \"-\":\n",
    "    print(num1 - num2)\n",
    "elif operation == \"*\":\n",
    "    print(num1 * num2)\n",
    "elif operation == \"/\":\n",
    "        if num2 != 0:\n",
    "            print(num1 / num2)\n",
    "        else:\n",
    "            print(\"Error: Division by zero is not allowed.\")\n",
    "else:\n",
    "  print(\"Invalid operation.\")\n",
    "\n"
   ]
  },
  {
   "cell_type": "code",
   "execution_count": null,
   "id": "9083594d",
   "metadata": {},
   "outputs": [],
   "source": []
  }
 ],
 "metadata": {
  "kernelspec": {
   "display_name": "Python 3",
   "language": "python",
   "name": "python3"
  },
  "language_info": {
   "codemirror_mode": {
    "name": "ipython",
    "version": 3
   },
   "file_extension": ".py",
   "mimetype": "text/x-python",
   "name": "python",
   "nbconvert_exporter": "python",
   "pygments_lexer": "ipython3",
   "version": "3.12.4"
  }
 },
 "nbformat": 4,
 "nbformat_minor": 5
}
